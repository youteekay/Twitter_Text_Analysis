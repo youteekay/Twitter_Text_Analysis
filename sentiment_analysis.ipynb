{
 "cells": [
  {
   "cell_type": "markdown",
   "metadata": {},
   "source": [
    "## Sentiment Analysis"
   ]
  },
  {
   "cell_type": "markdown",
   "metadata": {},
   "source": [
    "Import important modules"
   ]
  },
  {
   "cell_type": "code",
   "execution_count": 5,
   "metadata": {},
   "outputs": [],
   "source": [
    "from textblob import TextBlob as bl\n",
    "import matplotlib.pyplot as plt\n",
    "import sys\n",
    "import os\n",
    "import json\n",
    "import string\n",
    "import re\n",
    "from nltk.tokenize import sent_tokenize, word_tokenize"
   ]
  },
  {
   "cell_type": "markdown",
   "metadata": {},
   "source": [
    "Function to clean text"
   ]
  },
  {
   "cell_type": "code",
   "execution_count": 6,
   "metadata": {},
   "outputs": [],
   "source": [
    "def clean_text(unclean_text):\n",
    "    'Takes string as input and returns it without punctuation and numbers'\n",
    "    table_p = str.maketrans(p, len(p) * \" \")\n",
    "    table_d = str.maketrans(d, len(d) * \" \")\n",
    "    text_without_punctuation = unclean_text.translate(table_p)\n",
    "    text_without_punctuation_numbers = text_without_punctuation.translate(table_d)\n",
    "    return text_without_punctuation_numbers"
   ]
  },
  {
   "cell_type": "markdown",
   "metadata": {},
   "source": [
    "Lets do the sentiment analysis now"
   ]
  },
  {
   "cell_type": "markdown",
   "metadata": {},
   "source": [
    "Enter currency"
   ]
  },
  {
   "cell_type": "code",
   "execution_count": 9,
   "metadata": {},
   "outputs": [
    {
     "name": "stdout",
     "output_type": "stream",
     "text": [
      "Enter currency (bitcoin/ethereum)ethereum\n"
     ]
    }
   ],
   "source": [
    "currency = input('Enter currency (bitcoin/ethereum)')"
   ]
  },
  {
   "cell_type": "code",
   "execution_count": 8,
   "metadata": {},
   "outputs": [
    {
     "name": "stdout",
     "output_type": "stream",
     "text": [
      "The number of words in this file is 207836 and the number of sentences is 10000\n",
      "Average subjectivity score is: 0.3907932002784385\n",
      "Average polarity score is: 0.1966865691317937\n"
     ]
    },
    {
     "data": {
      "image/png": "[encoded data removed]",
      "text/plain": [
       "<Figure size 432x288 with 1 Axes>"
      ]
     },
     "metadata": {},
     "output_type": "display_data"
    },
    {
     "data": {
      "image/png": "[encoded data removed]",
      "text/plain": [
       "<Figure size 432x288 with 1 Axes>"
      ]
     },
     "metadata": {},
     "output_type": "display_data"
    }
   ],
   "source": [
    "p = string.punctuation\n",
    "d = string.digits\n",
    "with open(os.path.join('downloaded_tweets/tweet_stream_{}_10000.json'.format(currency))) as file:\n",
    "    data = json.load(file)\n",
    "\n",
    "words = []\n",
    "sentences = []\n",
    "\n",
    "excude_punctuation = set(string.punctuation)\n",
    "exclude_digits = set(string.digits)\n",
    "\n",
    "for tweet in data:\n",
    "    tweet_text = tweet['text']\n",
    "    clean_tweet = clean_text(tweet_text)\n",
    "    clean_tweet = re.sub(' +', ' ', clean_tweet)\n",
    "    sentences.append(clean_tweet)\n",
    "    tweet_words = word_tokenize(clean_tweet)\n",
    "    words.extend(tweet_words)\n",
    "\n",
    "print (\"The number of words in this file is {} and the number of sentences is {}\".format(len(words), len(sentences)))\n",
    "\n",
    "words_subj = []\n",
    "words_pol = []\n",
    "\n",
    "for w in words: #Words\n",
    "    ws = bl(w)\n",
    "    words_subj.append(ws.sentiment.subjectivity) #Word Subjectivity list\n",
    "    words_pol.append(ws.sentiment.polarity) #Word Polarity lists\n",
    "sentences_subj = []\n",
    "sentences_pol = []\n",
    "\n",
    "for s in sentences: #Sentences\n",
    "    ss = bl(s)\n",
    "    sentences_subj.append(ss.sentiment.subjectivity) #Sentecne Subjectivity List\n",
    "    sentences_pol.append(ss.sentiment.polarity) #Sentence Polarity List\n",
    "\n",
    "subjectivity_avg = sum(sentences_subj)/len(sentences_subj)\n",
    "polarity_avg = sum(sentences_pol)/len(sentences_pol)\n",
    "print('Average subjectivity score is: {}'.format(subjectivity_avg))\n",
    "print('Average polarity score is: {}'.format(polarity_avg))\n",
    "plt.hist(sentences_subj, bins=10) \n",
    "plt.xlabel('subjectivity score')\n",
    "plt.ylabel('tweet count')\n",
    "plt.grid(True)\n",
    "plt.savefig('{} subjectivity.pdf'.format(currency))\n",
    "plt.show()\n",
    "plt.hist(sentences_pol, bins=10) \n",
    "plt.xlabel('polarity score')\n",
    "plt.ylabel('tweet count')\n",
    "plt.grid(True)\n",
    "plt.savefig('{} polarity.pdf'.format(currency))\n",
    "plt.show()\n"
   ]
  },
  {
   "cell_type": "code",
   "execution_count": null,
   "metadata": {},
   "outputs": [],
   "source": []
  }
 ],
 "metadata": {
  "kernelspec": {
   "display_name": "Python 3",
   "language": "python",
   "name": "python3"
  },
  "language_info": {
   "codemirror_mode": {
    "name": "ipython",
    "version": 3
   },
   "file_extension": ".py",
   "mimetype": "text/x-python",
   "name": "python",
   "nbconvert_exporter": "python",
   "pygments_lexer": "ipython3",
   "version": "3.6.5"
  }
 },
 "nbformat": 4,
 "nbformat_minor": 2
}
