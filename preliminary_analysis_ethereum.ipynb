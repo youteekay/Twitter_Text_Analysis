{
 "cells": [
  {
   "cell_type": "markdown",
   "metadata": {},
   "source": [
    "## Preliminary Analysis"
   ]
  },
  {
   "cell_type": "markdown",
   "metadata": {},
   "source": [
    "Import required modules and variables"
   ]
  },
  {
   "cell_type": "code",
   "execution_count": null,
   "metadata": {},
   "outputs": [],
   "source": [
    "import json\n",
    "import os\n",
    "import nltk\n",
    "from nltk.tokenize import sent_tokenize, word_tokenize\n",
    "import string\n",
    "import string\n",
    "import re\n",
    "import sys\n",
    "import operator\n",
    "from pprint import pprint\n",
    "from collections import Counter\n",
    "\n",
    "p = string.punctuation\n",
    "d = string.digits\n"
   ]
  },
  {
   "cell_type": "markdown",
   "metadata": {},
   "source": [
    "Method for most popular words with stopwords"
   ]
  },
  {
   "cell_type": "code",
   "execution_count": null,
   "metadata": {},
   "outputs": [],
   "source": [
    "def most_popular_words(tweets):\n",
    "    'Returns the Ten Most Popular keywords from a list of Tweets (including Stopwords)'\n",
    "    excude_punctuation = set(string.punctuation)\n",
    "    exclude_digits = set(string.digits)\n",
    "    tweet_words_set = [ ]\n",
    "    for tweet in tweets:\n",
    "        tweet_text = tweet['text']\n",
    "        clean_tweet = clean_text(tweet_text)\n",
    "        clean_tweet = re.sub(' +', ' ', clean_tweet)\n",
    "        tweet_words = word_tokenize(clean_tweet)\n",
    "        tweet_words_set.extend(tweet_words)\n",
    "    counter = Counter(tweet_words_set)\n",
    "    return counter.most_common(10)"
   ]
  },
  {
   "cell_type": "markdown",
   "metadata": {},
   "source": [
    "Method for most popular words without stopwords"
   ]
  },
  {
   "cell_type": "code",
   "execution_count": null,
   "metadata": {},
   "outputs": [],
   "source": [
    "def most_popular_without_stopwords(tweets):\n",
    "    'Returns the Ten Most Popular keywords from a list of Tweets minus the stopwords'\n",
    "    excude_punctuation = set(string.punctuation)\n",
    "    exclude_digits = set(string.digits)\n",
    "    tweet_words_set = [ ]\n",
    "    for tweet in tweets:\n",
    "        tweet_text = tweet['text']\n",
    "        clean_tweet = clean_text(tweet_text)\n",
    "        clean_tweet = re.sub(' +', ' ', clean_tweet)\n",
    "        stopwords = nltk.corpus.stopwords.words('english')\n",
    "        stopwords.extend([\"RT\", \"co\", \"https\", \"We\",  \"https\", \"We\", \"via\", \"'\", \"’\", \"…\", \"I\"])\n",
    "        #print(stopwords)\n",
    "        tweet_words = word_tokenize(clean_tweet)\n",
    "        for word in tweet_words:\n",
    "            if word not in stopwords:\n",
    "                tweet_words_set.append(word)\n",
    "    counter = Counter(tweet_words_set)\n",
    "    return counter.most_common(10) "
   ]
  },
  {
   "cell_type": "markdown",
   "metadata": {},
   "source": [
    "Most popular hashtags"
   ]
  },
  {
   "cell_type": "code",
   "execution_count": null,
   "metadata": {},
   "outputs": [],
   "source": [
    "def most_popular_hashtags(tweets):\n",
    "    'Returns the Ten Most Popular Hashtags for a list of Tweets'\n",
    "    hashtags_set = [ ] \n",
    "    for tweet in tweets:\n",
    "        hashtags = tweet['entities']['hashtags']\n",
    "        for hashtag in hashtags:\n",
    "            hashtags_set.append(hashtag['text'])\n",
    "    counter = Counter(hashtags_set)\n",
    "    return counter.most_common(10)"
   ]
  },
  {
   "cell_type": "markdown",
   "metadata": {},
   "source": [
    "Most popular user mentions"
   ]
  },
  {
   "cell_type": "code",
   "execution_count": null,
   "metadata": {},
   "outputs": [],
   "source": [
    "def most_popular_user_mentions(tweets):\n",
    "    'Returns the Ten Most Frequent User Mentions from a list of Tweets'\n",
    "    user_mentions_set = [ ] \n",
    "    for tweet in tweets:\n",
    "        mentions = tweet['entities']['user_mentions']\n",
    "        for mention in mentions:\n",
    "            user_mentions_set.append(mention['screen_name'])\n",
    "    counter = Counter(user_mentions_set)\n",
    "    return counter.most_common(10)  "
   ]
  },
  {
   "cell_type": "markdown",
   "metadata": {},
   "source": [
    "Clean text,remove punctuation and numbers"
   ]
  },
  {
   "cell_type": "code",
   "execution_count": null,
   "metadata": {},
   "outputs": [],
   "source": [
    "def clean_text(unclean_text):\n",
    "    'Takes a piece of text as input and cleans it up by removing punctuation and numbers'\n",
    "    table_p = str.maketrans(p, len(p) * \" \")\n",
    "    table_d = str.maketrans(d, len(d) * \" \")\n",
    "    text_without_punctuation = unclean_text.translate(table_p)\n",
    "    text_without_punctuation_numbers = text_without_punctuation.translate(table_d)\n",
    "    return text_without_punctuation_numbers"
   ]
  },
  {
   "cell_type": "markdown",
   "metadata": {},
   "source": [
    "Method for most frequent tweeter"
   ]
  },
  {
   "cell_type": "code",
   "execution_count": null,
   "metadata": {},
   "outputs": [],
   "source": [
    "def frequent_tweeter(tweets):\n",
    "    'Returns the user (handle) with the most frequent tweets in a list of tweets'\n",
    "    tweeter_set = [ ]\n",
    "    for tweet in tweets:\n",
    "        tweeter = tweet['user']['screen_name']\n",
    "        tweeter_set.append(tweeter)\n",
    "    counter = Counter(tweeter_set)\n",
    "    return counter.most_common(1) "
   ]
  },
  {
   "cell_type": "markdown",
   "metadata": {},
   "source": [
    "Method for most popular tweet"
   ]
  },
  {
   "cell_type": "code",
   "execution_count": null,
   "metadata": {},
   "outputs": [],
   "source": [
    "\n",
    "def most_popular_tweet(tweets):\n",
    "    'Returns the most popular tweet from a list of tweets'\n",
    "    popular_tweet_set = { }\n",
    "    for tweet in tweets:\n",
    "        tweet_id = tweet['id']\n",
    "        quote_count = tweet['quote_count']\n",
    "        retweet_count = tweet['retweet_count']\n",
    "        reply_count = tweet['reply_count']\n",
    "        favourite_count = tweet['favorite_count']\n",
    "        try:\n",
    "            quote_count += tweet['retweeted_status']['quote_count']\n",
    "        except:\n",
    "            quote_count = tweet['quote_count']\n",
    "        try:\n",
    "            retweet_count += tweet['retweeted_status']['retweet_count']\n",
    "        except:\n",
    "            retweet_count = tweet['retweet_count']\n",
    "        try:\n",
    "            reply_count += tweet['retweeted_status']['reply_count']\n",
    "        except:\n",
    "            reply_count = tweet['reply_count']\n",
    "        try:\n",
    "            favourite_count += tweet['retweeted_status']['favorite_count']\n",
    "        except:\n",
    "            favourite_count = tweet['favorite_count']\n",
    "        tweet_score = quote_count + retweet_count + reply_count + favourite_count\n",
    "        #print(tweet_score)\n",
    "        popular_tweet_set[tweet_id] = tweet_score\n",
    "    return max(popular_tweet_set.items(), key = operator.itemgetter(1))[0] "
   ]
  },
  {
   "cell_type": "markdown",
   "metadata": {},
   "source": [
    "Lets run the results"
   ]
  },
  {
   "cell_type": "code",
   "execution_count": null,
   "metadata": {},
   "outputs": [],
   "source": [
    "with open(os.path.join('downloaded_tweets/tweet_stream_ethereum_10000.json')) as file:\n",
    "    data = json.load(file)\n",
    "    most_popular_words = most_popular_words(data)\n",
    "    print('10 Most Popular Words with Stopwords')\n",
    "    print(most_popular_words)\n",
    "    most_popular_without_stopwords = most_popular_without_stopwords(data)\n",
    "    print('10 Most Popular Words without Stopwords')\n",
    "    print(most_popular_without_stopwords)\n",
    "    most_popular_hashtags = most_popular_hashtags(data)\n",
    "    print('10 Most Popular Hashtags')\n",
    "    print(most_popular_hashtags)\n",
    "    most_popular_users = most_popular_user_mentions(data)\n",
    "    print('10 Most Popular Users')\n",
    "    print(most_popular_users)\n",
    "    frequent_tweeter = frequent_tweeter(data)\n",
    "    print('The Most Frequently Tweeting Person (tweet author handle) about the keyword:')\n",
    "    print(frequent_tweeter)\n",
    "    most_popular_tweet = most_popular_tweet(data)\n",
    "    print('The Most Popular Tweet(id) is:')\n",
    "    print(most_popular_tweet)\n",
    "    file.close()\n"
   ]
  },
  {
   "cell_type": "code",
   "execution_count": null,
   "metadata": {},
   "outputs": [],
   "source": []
  }
 ],
 "metadata": {
  "kernelspec": {
   "display_name": "Python 3",
   "language": "python",
   "name": "python3"
  },
  "language_info": {
   "codemirror_mode": {
    "name": "ipython",
    "version": 3
   },
   "file_extension": ".py",
   "mimetype": "text/x-python",
   "name": "python",
   "nbconvert_exporter": "python",
   "pygments_lexer": "ipython3",
   "version": "3.6.5"
  }
 },
 "nbformat": 4,
 "nbformat_minor": 2
}
